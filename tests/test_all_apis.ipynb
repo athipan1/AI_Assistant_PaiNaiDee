{
  "nbformat": 4,
  "nbformat_minor": 0,
  "metadata": {
    "colab": {
      "provenance": [],
      "gpuType": "T4",
      "include_colab_link": true
    },
    "kernelspec": {
      "name": "python3",
      "display_name": "Python 3"
    },
    "language_info": {
      "name": "python"
    },
    "accelerator": "GPU"
  },
  "cells": [
    {
      "cell_type": "markdown",
      "metadata": {
        "id": "view-in-github",
        "colab_type": "text"
      },
      "source": [
        "<a href=\"https://colab.research.google.com/github/athipan1/AI_Assistant_PaiNaiDee/blob/main/tests/test_all_apis.ipynb\" target=\"_parent\"><img src=\"https://colab.research.google.com/assets/colab-badge.svg\" alt=\"Open In Colab\"/></a>"
      ]
    },
    {
      "cell_type": "markdown",
      "metadata": {
        "id": "title"
      },
      "source": [
        "# 🧪 ทดลอง API ทั้งหมดใน Google Colab\\n",
        "# Complete API Testing for PaiNaiDee AI Assistant\\n",
        "\\n",
        "**ผู้ช่วย AI ไปไหนดี - ทดสอบ API ครบถ้วน**\\n",
        "\\n",
        "This notebook provides comprehensive testing of all PaiNaiDee AI Assistant APIs including:\\n",
        "- 🤖 AI Model Selection\\n",
        "- 😊 Emotion Analysis\\n",
        "- 🌍 Tourism Intelligence\\n",
        "- 🎭 Multimodal Action Plans\\n",
        "- 🎯 3D Model Management\\n",
        "- 🔊 Text-to-Speech\\n",
        "- 📍 Location Services"
      ]
    },
    {
      "cell_type": "markdown",
      "metadata": {
        "id": "setup"
      },
      "source": [
        "## 🚀 Setup | การตั้งค่าเริ่มต้น"
      ]
    },
    {
      "cell_type": "code",
      "execution_count": null,
      "metadata": {
        "id": "install_deps"
      },
      "outputs": [],
      "source": [
        "# Clone the repository\\n",
        "!git clone https://github.com/athipan1/AI_Assistant_PaiNaiDee.git\\n",
        "%cd AI_Assistant_PaiNaiDee/painaidee_ai_assistant\\n",
        "\\n",
        "# Install requirements\\n",
        "!pip install -r requirements.txt\\n",
        "!pip install uvicorn fastapi pyngrok nest-asyncio"
      ]
    },
    {
      "cell_type": "code",
      "execution_count": null,
      "metadata": {
        "id": "setup_ngrok"
      },
      "outputs": [],
      "source": [
        "# Setup ngrok\\n",
        "NGROK_TOKEN = \"YOUR_NGROK_TOKEN\"  # Replace with your token from ngrok.com\\n",
        "\\n",
        "from pyngrok import ngrok\\n",
        "import os\\n",
        "\\n",
        "if NGROK_TOKEN != \"YOUR_NGROK_TOKEN\":\\n",
        "    ngrok.set_auth_token(NGROK_TOKEN)\\n",
        "    print(\"✅ ngrok auth token set successfully!\")\\n",
        "else:\\n",
        "    print(\"⚠️ Please replace NGROK_TOKEN with your actual token\")"
      ]
    },
    {
      "cell_type": "code",
      "execution_count": null,
      "metadata": {
        "id": "start_server"
      },
      "outputs": [],
      "source": [
        "import threading\\n",
        "import time\\n",
        "import requests\\n",
        "import nest_asyncio\\n",
        "import uvicorn\\n",
        "\\n",
        "nest_asyncio.apply()\\n",
        "\\n",
        "def start_server():\\n",
        "    try:\\n",
        "        from main import app\\n",
        "        uvicorn.run(app, host=\"127.0.0.1\", port=8000, log_level=\"warning\")\\n",
        "    except Exception as e:\\n",
        "        print(f\"Server startup error: {e}\")\\n",
        "\\n",
        "# Start server in background\\n",
        "server_thread = threading.Thread(target=start_server, daemon=True)\\n",
        "server_thread.start()\\n",
        "\\n",
        "print(\"🚀 Starting PaiNaiDee AI Assistant server...\")\\n",
        "time.sleep(10)\\n",
        "\\n",
        "# Create ngrok tunnel\\n",
        "try:\\n",
        "    ngrok.kill()\\n",
        "    public_url = ngrok.connect(8000)\\n",
        "    print(f\"🌐 Public URL: {public_url}\")\\n",
        "    BASE_URL = str(public_url)\\n",
        "except Exception as e:\\n",
        "    print(f\"ngrok failed: {e}\")\\n",
        "    BASE_URL = \"http://127.0.0.1:8000\"\\n",
        "\\n",
        "print(f\"🎯 Ready to test APIs! Base URL: {BASE_URL}\")"
      ]
    },
    {
      "cell_type": "markdown",
      "metadata": {
        "id": "testing"
      },
      "source": [
        "## 🧪 API Testing | การทดสอบ API"
      ]
    },
    {
      "cell_type": "code",
      "execution_count": null,
      "metadata": {
        "id": "helper_functions"
      },
      "outputs": [],
      "source": [
        "import json\\n",
        "import requests\\n",
        "from typing import Dict, Any\\n",
        "\\n",
        "def test_api(endpoint: str, method: str = \"GET\", data: Dict[str, Any] = None, description: str = \"\") -> Dict[str, Any]:\\n",
        "    \"\"\"Test an API endpoint and display results\"\"\"\\n",
        "    url = f\"{BASE_URL}{endpoint}\"\\n",
        "    \\n",
        "    print(f\"\\n🔧 Testing: {description or endpoint}\")\\n",
        "    print(f\"📍 URL: {url}\")\\n",
        "    \\n",
        "    try:\\n",
        "        if method.upper() == \"POST\":\\n",
        "            response = requests.post(url, json=data, timeout=30)\\n",
        "        else:\\n",
        "            response = requests.get(url, timeout=30)\\n",
        "        \\n",
        "        print(f\"📊 Status: {response.status_code}\")\\n",
        "        \\n",
        "        if response.status_code == 200:\\n",
        "            result = response.json()\\n",
        "            print(f\"✅ Success!\")\\n",
        "            print(f\"📝 Response: {json.dumps(result, indent=2, ensure_ascii=False)[:500]}...\")\\n",
        "            return result\\n",
        "        else:\\n",
        "            print(f\"❌ Error: {response.status_code}\")\\n",
        "            print(f\"📝 Response: {response.text[:200]}...\")\\n",
        "            return {\"error\": response.status_code, \"message\": response.text}\\n",
        "            \\n",
        "    except Exception as e:\\n",
        "        print(f\"💥 Exception: {e}\")\\n",
        "        return {\"error\": str(e)}\\n",
        "\\n",
        "print(\"✅ Helper functions loaded!\")"
      ]
    },
    {
      "cell_type": "markdown",
      "metadata": {
        "id": "core_api"
      },
      "source": [
        "### 💬 Core API Testing - /api/talk"
      ]
    },
    {
      "cell_type": "code",
      "execution_count": null,
      "metadata": {
        "id": "test_talk"
      },
      "outputs": [],
      "source": [
        "# Test the main talk API\\n",
        "talk_result = test_api(\"/api/talk\", \"POST\", {\\n",
        "    \"message\": \"Show me a walking person and recommend outdoor activities in Bangkok\",\\n",
        "    \"language\": \"en\",\\n",
        "    \"user_id\": \"test_user\",\\n",
        "    \"context\": {\\n",
        "        \"location\": \"Bangkok\",\\n",
        "        \"weather\": \"sunny\",\\n",
        "        \"time\": \"morning\"\\n",
        "    }\\n",
        "}, \"Main talk API - Integrated response\")\\n",
        "\\n",
        "# Test with Thai language\\n",
        "thai_result = test_api(\"/api/talk\", \"POST\", {\\n",
        "    \"message\": \"แสดงคนกำลังวิ่งและแนะนำสถานที่ท่องเที่ยว\",\\n",
        "    \"language\": \"th\",\\n",
        "    \"user_id\": \"test_user_th\"\\n",
        "}, \"Main talk API - Thai language\")\\n",
        "\\n",
        "# Test with emotion\\n",
        "emotion_result = test_api(\"/api/talk\", \"POST\", {\\n",
        "    \"message\": \"I'm so excited about my first trip to Thailand!\",\\n",
        "    \"language\": \"en\",\\n",
        "    \"user_id\": \"excited_user\"\\n",
        "}, \"Main talk API - Emotional content\")"
      ]
    },
    {
      "cell_type": "markdown",
      "metadata": {
        "id": "individual_apis"
      },
      "source": [
        "### 🔧 Individual API Components"
      ]
    },
    {
      "cell_type": "code",
      "execution_count": null,
      "metadata": {
        "id": "test_components"
      },
      "outputs": [],
      "source": [
        "# Test system health\\n",
        "health = test_api(\"/performance/system_health\", \"GET\", description=\"System Health Check\")\\n",
        "\\n",
        "# Test AI model selection\\n",
        "model_selection = test_api(\"/ai/select_model\", \"POST\", {\\n",
        "    \"question\": \"Show me a walking person\",\\n",
        "    \"language\": \"en\"\\n",
        "}, \"AI Model Selection\")\\n",
        "\\n",
        "# Test emotion analysis\\n",
        "emotion = test_api(\"/emotion/analyze_emotion\", \"POST\", {\\n",
        "    \"text\": \"I am so excited about my trip!\",\\n",
        "    \"language\": \"en\"\\n",
        "}, \"Emotion Analysis\")\\n",
        "\\n",
        "# Test tourism recommendations\\n",
        "tourism = test_api(\"/tourism/recommendations/contextual\", \"POST\", {\\n",
        "    \"user_id\": \"test_user\",\\n",
        "    \"query\": \"outdoor activities\",\\n",
        "    \"context\": {\"weather\": \"sunny\", \"time\": \"morning\"}\\n",
        "}, \"Tourism Recommendations\")\\n",
        "\\n",
        "# List available models\\n",
        "models = test_api(\"/ai/models\", \"GET\", description=\"Available 3D Models\")"
      ]
    },
    {
      "cell_type": "markdown",
      "metadata": {
        "id": "sample_usage"
      },
      "source": [
        "### 📋 Sample Request/Response Examples"
      ]
    },
    {
      "cell_type": "code",
      "execution_count": null,
      "metadata": {
        "id": "examples"
      },
      "outputs": [],
      "source": [
        "print(\"📤 Sample /api/talk Request:\")\\n",
        "sample_request = {\\n",
        "    \"message\": \"Show me a walking person and recommend outdoor activities\",\\n",
        "    \"language\": \"en\",\\n",
        "    \"user_id\": \"demo_user\",\\n",
        "    \"context\": {\\n",
        "        \"location\": \"Bangkok\",\\n",
        "        \"weather\": \"sunny\",\\n",
        "        \"time\": \"morning\"\\n",
        "    }\\n",
        "}\\n",
        "print(json.dumps(sample_request, indent=2, ensure_ascii=False))\\n",
        "\\n",
        "print(\"\\n📥 Expected Response Structure:\")\\n",
        "sample_response = {\\n",
        "    \"status\": \"success\",\\n",
        "    \"model_selection\": {\\n",
        "        \"selected_model\": \"Walking.fbx\",\\n",
        "        \"confidence\": 0.85,\\n",
        "        \"description\": \"Character animation showing walking motion\"\\n",
        "    },\\n",
        "    \"emotion_analysis\": {\\n",
        "        \"primary_emotion\": \"neutral\",\\n",
        "        \"confidence\": 0.7,\\n",
        "        \"suggested_gesture\": \"neutral_walking\"\\n",
        "    },\\n",
        "    \"tourism_recommendations\": {\\n",
        "        \"activities\": [\"Lumpini Park walk\", \"Chatuchak Market\"],\\n",
        "        \"reasoning\": \"Sunny morning perfect for outdoor activities\"\\n",
        "    }\\n",
        "}\\n",
        "print(json.dumps(sample_response, indent=2, ensure_ascii=False))"
      ]
    },
    {
      "cell_type": "markdown",
      "metadata": {
        "id": "summary"
      },
      "source": [
        "### 📊 Testing Summary"
      ]
    },
    {
      "cell_type": "code",
      "execution_count": null,
      "metadata": {
        "id": "report"
      },
      "outputs": [],
      "source": [
        "print(\"🎯 PaiNaiDee AI Assistant - Complete API Testing Report\")\\n",
        "print(\"=\" * 70)\\n",
        "\\n",
        "print(f\"🌐 Server URL: {BASE_URL}\")\\n",
        "print(f\"📚 API Documentation: {BASE_URL}/docs\")\\n",
        "print(f\"🎮 3D Viewer: {BASE_URL}/static/index.html\")\\n",
        "\\n",
        "print(\"\\n✅ Tested API Categories:\")\\n",
        "categories = [\\n",
        "    \"💬 Main Talk API (/api/talk) - Core functionality\",\\n",
        "    \"🏥 System Health & Performance\",\\n",
        "    \"🤖 AI Model Selection (English & Thai)\",\\n",
        "    \"😊 Emotion Analysis & Gesture Mapping\",\\n",
        "    \"🌍 Tourism Intelligence & Recommendations\",\\n",
        "    \"🎯 3D Model Management\"\\n",
        "]\\n",
        "\\n",
        "for category in categories:\\n",
        "    print(f\"   {category}\")\\n",
        "\\n",
        "print(\"\\n🎮 How to Use:\")\\n",
        "print(\"1. 📱 Send requests to /api/talk endpoint\")\\n",
        "print(\"2. 💬 Try natural language queries\")\\n",
        "print(\"3. 🗺️ Include context like location, weather, time\")\\n",
        "print(\"4. 🎭 Receive integrated response with model, emotion, and recommendations\")\\n",
        "\\n",
        "print(\"\\n💫 Thank you for testing PaiNaiDee AI Assistant!\")\\n",
        "print(\"🇹🇭 ขอบคุณที่ทดสอบผู้ช่วย AI ไปไหนดี!\")"
      ]
    }
  ]
}