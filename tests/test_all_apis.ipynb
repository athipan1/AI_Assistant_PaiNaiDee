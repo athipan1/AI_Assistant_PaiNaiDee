{
  "nbformat": 4,
  "nbformat_minor": 0,
  "metadata": {
    "colab": {
      "provenance": [],
      "gpuType": "T4",
      "include_colab_link": true
    },
    "kernelspec": {
      "name": "python3",
      "display_name": "Python 3"
    },
    "language_info": {
      "name": "python"
    },
    "accelerator": "GPU"
  },
  "cells": [
    {
      "cell_type": "markdown",
      "metadata": {
        "id": "view-in-github",
        "colab_type": "text"
      },
      "source": [
        "<a href=\"https://colab.research.google.com/github/athipan1/AI_Assistant_PaiNaiDee/blob/main/tests/test_all_apis.ipynb\" target=\"_parent\"><img src=\"https://colab.research.google.com/assets/colab-badge.svg\" alt=\"Open In Colab\"/></a>"
      ]
    },
    {
      "cell_type": "markdown",
      "metadata": {
        "id": "title"
      },
      "source": [
        "# 🧪 ทดลอง API ทั้งหมดใน Google Colab\n",
        "# Complete API Testing for PaiNaiDee AI Assistant\n",
        "\n",
        "**ผู้ช่วย AI ไปไหนดี - ทดสอบ API ครบถ้วน**\n",
        "\n",
        "This notebook provides comprehensive testing of all PaiNaiDee AI Assistant APIs including:\n",
        "- 🤖 AI Model Selection\n",
        "- 😊 Emotion Analysis  \n",
        "- 🌍 Tourism Intelligence\n",
        "- 🎭 Multimodal Action Plans\n",
        "- 🎯 3D Model Management\n",
        "- 🔊 Text-to-Speech\n",
        "- 📍 Location Services\n",
        "\n",
        "---"
      ]
    },
    {
      "cell_type": "markdown",
      "metadata": {
        "id": "setup_section"
      },
      "source": [
        "## 🚀 Setup | การตั้งค่าเริ่มต้น\n",
        "\n",
        "### Step 1: Clone Repository and Install Dependencies"
      ]
    },
    {
      "cell_type": "code",
      "execution_count": null,
      "metadata": {
        "id": "setup_repo"
      },
      "outputs": [],
      "source": [
        "# Clone the repository\n",
        "!git clone https://github.com/athipan1/AI_Assistant_PaiNaiDee.git\n",
        "%cd AI_Assistant_PaiNaiDee/painaidee_ai_assistant\n",
        "\n",
        "# Install requirements\n",
        "!pip install -r requirements.txt\n",
        "\n",
        "# Install additional packages for Colab\n",
        "!pip install uvicorn fastapi pyngrok nest-asyncio\n",
        "\n",
        "# Install localtunnel as backup for ngrok\n",
        "!npm install -g localtunnel"
      ]
    },
    {
      "cell_type": "markdown",
      "metadata": {
        "id": "ngrok_setup"
      },
      "source": [
        "### Step 2: Setup ngrok for Public Access\n",
        "\n",
        "**Get your ngrok auth token:**\n",
        "1. Sign up at [ngrok.com](https://ngrok.com/) (free)\n",
        "2. Get your auth token from [ngrok dashboard](https://dashboard.ngrok.com/get-started/your-authtoken)\n",
        "3. Paste it in the cell below"
      ]
    },
    {
      "cell_type": "code",
      "execution_count": null,
      "metadata": {
        "id": "ngrok_auth"
      },
      "outputs": [],
      "source": [
        "# Install and setup ngrok\n",
        "!pip install pyngrok\n",
        "\n",
        "# Replace 'YOUR_NGROK_TOKEN' with your actual ngrok auth token\n",
        "NGROK_TOKEN = \"YOUR_NGROK_TOKEN\"  # ⚠️ REPLACE THIS WITH YOUR TOKEN\n",
        "\n",
        "from pyngrok import ngrok\n",
        "import os\n",
        "\n",
        "if NGROK_TOKEN != \"YOUR_NGROK_TOKEN\":\n",
        "    # Set auth token\n",
        "    ngrok.set_auth_token(NGROK_TOKEN)\n",
        "    print(\"✅ ngrok auth token set successfully!\")\n",
        "else:\n",
        "    print(\"⚠️ Please replace NGROK_TOKEN with your actual token from https://dashboard.ngrok.com/get-started/your-authtoken\")"
      ]
    },
    {
      "cell_type": "markdown",
      "metadata": {
        "id": "server_start"
      },
      "source": [
        "### Step 3: Start the PaiNaiDee AI Assistant Server"
      ]
    },
    {
      "cell_type": "code",
      "execution_count": null,
      "metadata": {
        "id": "start_server"
      },
      "outputs": [],
      "source": [
        "import threading\n",
        "import time\n",
        "import requests\n",
        "import nest_asyncio\n",
        "import uvicorn\n",
        "from pyngrok import ngrok\n",
        "\n",
        "# Allow nested async loops in Colab\n",
        "nest_asyncio.apply()\n",
        "\n",
        "# Start the FastAPI server in background\n",
        "def start_server():\n",
        "    try:\n",
        "        from main import app\n",
        "        uvicorn.run(app, host=\"127.0.0.1\", port=8000, log_level=\"warning\")\n",
        "    except Exception as e:\n",
        "        print(f\"Server startup error: {e}\")\n",
        "\n",
        "# Start server in background thread\n",
        "server_thread = threading.Thread(target=start_server, daemon=True)\n",
        "server_thread.start()\n",
        "\n",
        "# Wait for server to start\n",
        "print(\"🚀 Starting PaiNaiDee AI Assistant server...\")\n",
        "time.sleep(10)\n",
        "\n",
        "# Test if server is running\n",
        "try:\n",
        "    response = requests.get(\"http://127.0.0.1:8000/performance/system_health\", timeout=5)\n",
        "    if response.status_code == 200:\n",
        "        print(\"✅ Server is running successfully!\")\n",
        "    else:\n",
        "        print(f\"⚠️ Server responding with status: {response.status_code}\")\n",
        "except requests.exceptions.RequestException as e:\n",
        "    print(f\"❌ Server connection failed: {e}\")\n",
        "    print(\"Trying alternative startup method...\")"
      ]
    },
    {
      "cell_type": "markdown",
      "metadata": {
        "id": "tunnel_setup"
      },
      "source": [
        "### Step 4: Create Public Tunnel"
      ]
    },
    {
      "cell_type": "code",
      "execution_count": null,
      "metadata": {
        "id": "create_tunnel"
      },
      "outputs": [],
      "source": [
        "# Create ngrok tunnel\n",
        "try:\n",
        "    # Kill any existing tunnels\n",
        "    ngrok.kill()\n",
        "    \n",
        "    # Create new tunnel\n",
        "    public_url = ngrok.connect(8000)\n",
        "    print(f\"🌐 Public URL: {public_url}\")\n",
        "    print(f\"📚 API Documentation: {public_url}/docs\")\n",
        "    print(f\"🎮 3D Viewer: {public_url}/static/index.html\")\n",
        "    \n",
        "    # Store the URL for later use\n",
        "    BASE_URL = str(public_url)\n",
        "    \n",
        "except Exception as e:\n",
        "    print(f\"ngrok failed: {e}\")\n",
        "    print(\"Trying localtunnel as backup...\")\n",
        "    \n",
        "    # Fallback to localtunnel\n",
        "    import subprocess\n",
        "    import re\n",
        "    \n",
        "    try:\n",
        "        # Start localtunnel\n",
        "        result = subprocess.run(['lt', '--port', '8000'], \n",
        "                              capture_output=True, text=True, timeout=10)\n",
        "        \n",
        "        # Extract URL from output\n",
        "        url_match = re.search(r'https://[^\\s]+', result.stdout)\n",
        "        if url_match:\n",
        "            BASE_URL = url_match.group()\n",
        "            print(f\"🌐 Public URL (localtunnel): {BASE_URL}\")\n",
        "        else:\n",
        "            BASE_URL = \"http://127.0.0.1:8000\"  # Fallback to local\n",
        "            print(\"⚠️ Using local URL only\")\n",
        "    except:\n",
        "        BASE_URL = \"http://127.0.0.1:8000\"\n",
        "        print(\"⚠️ Using local URL only\")\n",
        "\n",
        "print(f\"\\n🎯 Ready to test APIs! Base URL: {BASE_URL}\")"
      ]
    },
    {
      "cell_type": "markdown",
      "metadata": {
        "id": "api_testing"
      },
      "source": [
        "---\n",
        "## 🧪 API Testing | การทดสอบ API\n",
        "\n",
        "### Helper Functions for Testing"
      ]
    },
    {
      "cell_type": "code",
      "execution_count": null,
      "metadata": {
        "id": "helper_functions"
      },
      "outputs": [],
      "source": [
        "import json\n",
        "import requests\n",
        "from typing import Dict, Any\n",
        "\n",
        "def test_api(endpoint: str, method: str = \"GET\", data: Dict[str, Any] = None, \n",
        "             description: str = \"\") -> Dict[str, Any]:\n",
        "    \"\"\"Test an API endpoint and display results\"\"\"\n",
        "    url = f\"{BASE_URL}{endpoint}\"\n",
        "    \n",
        "    print(f\"\\n🔧 Testing: {description or endpoint}\")\n",
        "    print(f\"📍 URL: {url}\")\n",
        "    \n",
        "    try:\n",
        "        if method.upper() == \"POST\":\n",
        "            response = requests.post(url, json=data, timeout=30)\n",
        "        else:\n",
        "            response = requests.get(url, timeout=30)\n",
        "        \n",
        "        print(f\"📊 Status: {response.status_code}\")\n",
        "        \n",
        "        if response.status_code == 200:\n",
        "            result = response.json()\n",
        "            print(f\"✅ Success!\")\n",
        "            print(f\"📝 Response: {json.dumps(result, indent=2, ensure_ascii=False)[:500]}...\")\n",
        "            return result\n",
        "        else:\n",
        "            print(f\"❌ Error: {response.status_code}\")\n",
        "            print(f\"📝 Response: {response.text[:200]}...\")\n",
        "            return {\"error\": response.status_code, \"message\": response.text}\n",
        "            \n",
        "    except requests.exceptions.Timeout:\n",
        "        print(\"⏰ Request timed out (30s)\")\n",
        "        return {\"error\": \"timeout\"}\n",
        "    except Exception as e:\n",
        "        print(f\"💥 Exception: {e}\")\n",
        "        return {\"error\": str(e)}\n",
        "\n",
        "def display_section(title: str):\n",
        "    \"\"\"Display a section header\"\"\"\n",
        "    print(f\"\\n{'='*60}\")\n",
        "    print(f\"🎯 {title}\")\n",
        "    print(f\"{'='*60}\")\n",
        "\n",
        "print(\"✅ Helper functions loaded!\")"
      ]
    },
    {
      "cell_type": "markdown",
      "metadata": {
        "id": "talk_api_test"
      },
      "source": [
        "### 💬 Core API Testing - /api/talk"
      ]
    },
    {
      "cell_type": "code",
      "execution_count": null,
      "metadata": {
        "id": "test_talk_api"
      },
      "outputs": [],
      "source": [
        "display_section(\"Core API Testing - /api/talk\")\n",
        "\n",
        "# Test the main talk API with English input\n",
        "talk_english = test_api(\"/api/talk\", \"POST\", \n",
        "                       {\n",
        "                           \"message\": \"Show me a walking person and tell me about tourism in Bangkok\",\n",
        "                           \"language\": \"en\",\n",
        "                           \"user_id\": \"test_user_001\"\n",
        "                       },\n",
        "                       description=\"Main talk API - English tourism query\")\n",
        "\n",
        "# Test with Thai input\n",
        "talk_thai = test_api(\"/api/talk\", \"POST\",\n",
        "                    {\n",
        "                        \"message\": \"แสดงคนกำลังวิ่งและแนะนำสถานที่ท่องเที่ยวในเชียงใหม่\",\n",
        "                        \"language\": \"th\",\n",
        "                        \"user_id\": \"test_user_002\"\n",
        "                    },\n",
        "                    description=\"Main talk API - Thai tourism query\")\n",
        "\n",
        "# Test with emotional content\n",
        "talk_emotion = test_api(\"/api/talk\", \"POST\",\n",
        "                       {\n",
        "                           \"message\": \"I'm so excited about my first trip to Thailand! Can you show me some animations and recommend places?\",\n",
        "                           \"language\": \"en\",\n",
        "                           \"user_id\": \"test_user_003\",\n",
        "                           \"context\": {\n",
        "                               \"location\": \"Bangkok\",\n",
        "                               \"first_visit\": True\n",
        "                           }\n",
        "                       },\n",
        "                       description=\"Main talk API - Emotional content with context\")\n",
        "\n",
        "print(\"\\n📋 Sample Request/Response for /api/talk:\")\n",
        "print(\"\\n📤 Sample Request:\")\n",
        "sample_request = {\n",
        "    \"message\": \"Show me a walking person and recommend outdoor activities\",\n",
        "    \"language\": \"en\",\n",
        "    \"user_id\": \"demo_user\",\n",
        "    \"context\": {\n",
        "        \"location\": \"Bangkok\",\n",
        "        \"weather\": \"sunny\",\n",
        "        \"time\": \"morning\"\n",
        "    }\n",
        "}\n",
        "print(json.dumps(sample_request, indent=2, ensure_ascii=False))\n",
        "\n",
        "print(\"\\n📥 Expected Response Structure:\")\n",
        "sample_response = {\n",
        "    \"status\": \"success\",\n",
        "    \"model_selection\": {\n",
        "        \"selected_model\": \"Walking.fbx\",\n",
        "        \"confidence\": 0.85,\n",
        "        \"description\": \"Character animation showing walking motion\"\n",
        "    },\n",
        "    \"emotion_analysis\": {\n",
        "        \"primary_emotion\": \"neutral\",\n",
        "        \"confidence\": 0.7,\n",
        "        \"suggested_gesture\": \"neutral_walking\"\n",
        "    },\n",
        "    \"tourism_recommendations\": {\n",
        "        \"activities\": [\"Lumpini Park walk\", \"Chatuchak Market\"],\n",
        "        \"reasoning\": \"Sunny morning perfect for outdoor activities\"\n",
        "    },\n",
        "    \"action_plan\": {\n",
        "        \"speech\": \"Here's a walking animation and some great outdoor activities!\",\n",
        "        \"gesture\": \"pointing_gesture\",\n",
        "        \"ui_updates\": [\"display_model\", \"show_recommendations\"]\n",
        "    }\n",
        "}\n",
        "print(json.dumps(sample_response, indent=2, ensure_ascii=False))"
      ]
    },
    {
      "cell_type": "markdown",
      "metadata": {
        "id": "health_check"
      },
      "source": [
        "### 🏥 System Health Check"
      ]
    },
    {
      "cell_type": "code",
      "execution_count": null,
      "metadata": {
        "id": "test_health"
      },
      "outputs": [],
      "source": [
        "display_section(\"System Health Check | การตรวจสอบสุขภาพระบบ\")\n",
        "\n",
        "# Test system health\n",
        "health_result = test_api(\"/performance/system_health\", \"GET\", \n",
        "                        description=\"Overall system health\")\n",
        "\n",
        "# Test model performance\n",
        "model_perf = test_api(\"/performance/model_performance\", \"GET\",\n",
        "                     description=\"3D model performance metrics\")\n",
        "\n",
        "# Test emotion analysis health\n",
        "emotion_health = test_api(\"/emotion/health\", \"GET\",\n",
        "                         description=\"Emotion analysis service health\")"
      ]
    },
    {
      "cell_type": "markdown",
      "metadata": {
        "id": "ai_testing"
      },
      "source": [
        "### 🤖 AI Model Selection Testing"
      ]
    },
    {
      "cell_type": "code",
      "execution_count": null,
      "metadata": {
        "id": "test_ai_selection"
      },
      "outputs": [],
      "source": [
        "display_section(\"AI Model Selection | การเลือกโมเดล AI\")\n",
        "\n",
        "# Test basic model selection\n",
        "basic_selection = test_api(\"/ai/select_model\", \"POST\", \n",
        "                          {\"question\": \"Show me a walking person\", \"language\": \"en\"},\n",
        "                          description=\"Basic AI model selection\")\n",
        "\n",
        "# Test Thai language model selection  \n",
        "thai_selection = test_api(\"/ai/select_model\", \"POST\",\n",
        "                         {\"question\": \"แสดงคนกำลังวิ่ง\", \"language\": \"th\"},\n",
        "                         description=\"Thai language model selection\")\n",
        "\n",
        "# Test model selection with emotion analysis\n",
        "emotion_selection = test_api(\"/ai/select_model_with_emotion\", \"POST\",\n",
        "                            {\"question\": \"I'm excited to see walking animations!\", \n",
        "                             \"analyze_emotion\": True},\n",
        "                            description=\"Model selection with emotion analysis\")\n",
        "\n",
        "# List available models\n",
        "models_list = test_api(\"/ai/models\", \"GET\",\n",
        "                      description=\"List all available 3D models\")"
      ]
    },
    {
      "cell_type": "markdown",
      "metadata": {
        "id": "emotion_testing"
      },
      "source": [
        "### 😊 Emotion Analysis Testing"
      ]
    },
    {
      "cell_type": "code",
      "execution_count": null,
      "metadata": {
        "id": "test_emotion"
      },
      "outputs": [],
      "source": [
        "display_section(\"Emotion Analysis | การวิเคราะห์อารมณ์\")\n",
        "\n",
        "# Test emotion analysis - excited\n",
        "excited_emotion = test_api(\"/emotion/analyze_emotion\", \"POST\",\n",
        "                          {\"text\": \"I am so excited about my trip to Thailand!\", \"language\": \"en\"},\n",
        "                          description=\"Analyze excited emotion (English)\")\n",
        "\n",
        "# Test emotion analysis - worried\n",
        "worried_emotion = test_api(\"/emotion/analyze_emotion\", \"POST\",\n",
        "                          {\"text\": \"I'm worried about traveling alone\", \"language\": \"en\"},\n",
        "                          description=\"Analyze worried emotion (English)\")\n",
        "\n",
        "# Test Thai emotion analysis\n",
        "thai_emotion = test_api(\"/emotion/analyze_emotion\", \"POST\",\n",
        "                       {\"text\": \"ฉันดีใจมากที่ได้ไปเที่ยว\", \"language\": \"th\"},\n",
        "                       description=\"Analyze emotion in Thai\")\n",
        "\n",
        "# Test gesture recommendation\n",
        "gesture_rec = test_api(\"/emotion/recommend_gesture\", \"POST\",\n",
        "                      {\"emotion\": \"excited\", \"context\": \"tourism\"},\n",
        "                      description=\"Get gesture recommendation for excited emotion\")\n",
        "\n",
        "# Get all emotion-to-gesture mappings\n",
        "gesture_mappings = test_api(\"/emotion/gesture_mappings\", \"GET\",\n",
        "                           description=\"Get all emotion-to-gesture mappings\")"
      ]
    },
    {
      "cell_type": "markdown",
      "metadata": {
        "id": "tourism_testing"
      },
      "source": [
        "### 🌍 Tourism Intelligence Testing"
      ]
    },
    {
      "cell_type": "code",
      "execution_count": null,
      "metadata": {
        "id": \"test_tourism"
      },
      "outputs": [],
      "source": [
        "display_section(\"Tourism Intelligence | ระบบท่องเที่ยวอัจฉริยะ\")\n",
        "\n",
        "# Test contextual recommendations\n",
        "contextual_rec = test_api(\"/tourism/recommendations/contextual\", \"POST\",\n",
        "                         {\n",
        "                             \"user_id\": \"test_user_001\",\n",
        "                             \"query\": \"indoor activities\",\n",
        "                             \"context\": {\n",
        "                                 \"weather\": \"rainy\",\n",
        "                                 \"time\": \"afternoon\",\n",
        "                                 \"location\": \"Bangkok\"\n",
        "                             }\n",
        "                         },\n",
        "                         description=\"Contextual tourism recommendations\")\n",
        "\n",
        "# Test tourist interest-based recommendations\n",
        "interest_rec = test_api(\"/tourism/recommendations/tourist\", \"POST\",\n",
        "                       {\n",
        "                           \"user_id\": \"test_user_001\", \n",
        "                           \"interest_type\": \"cultural\",\n",
        "                           \"intensity\": 0.8\n",
        "                       },\n",
        "                       description=\"Tourist interest-based recommendations\")\n",
        "\n",
        "# Test time-specific recommendations\n",
        "time_rec = test_api(\"/tourism/recommendations/time_specific\", \"POST\",\n",
        "                   {\n",
        "                       \"user_id\": \"test_user_001\",\n",
        "                       \"time_context\": \"evening\",\n",
        "                       \"preferences\": [\"food\", \"nightlife\"]\n",
        "                   },\n",
        "                   description=\"Time-specific recommendations\")\n",
        "\n",
        "# Capture user interest\n",
        "capture_interest = test_api(\"/tourism/capture_interest\", \"POST\",\n",
        "                           {\n",
        "                               \"user_id\": \"test_user_001\",\n",
        "                               \"interaction_type\": \"view\",\n",
        "                               \"content\": \"Thai temples\",\n",
        "                               \"duration\": 45\n",
        "                           },\n",
        "                           description=\"Capture user tourism interest\")\n",
        "\n",
        "# Get current context\n",
        "current_context = test_api(\"/tourism/context/current\", \"GET\",\n",
        "                          description=\"Get current contextual factors\")"
      ]
    },
    {
      "cell_type": "markdown",
      "metadata": {
        "id": "action_plan_testing"
      },
      "source": [
        "### 🎭 Multimodal Action Plan Testing"
      ]
    },
    {
      "cell_type": "code",
      "execution_count": null,
      "metadata": {
        "id": \"test_action_plans"
      },
      "outputs": [],
      "source": [
        "display_section(\"Multimodal Action Plans | แผนการทำงานแบบหลายรูปแบบ\")\n",
        "\n",
        "# Generate action plan\n",
        "action_plan = test_api(\"/action_plan/generate_plan\", \"POST\",\n",
        "                      {\n",
        "                          \"intent\": \"welcome_user\",\n",
        "                          \"context\": {\n",
        "                              \"user_emotion\": \"excited\",\n",
        "                              \"time_of_day\": \"morning\",\n",
        "                              \"first_visit\": True\n",
        "                          },\n",
        "                          \"preferences\": {\n",
        "                              \"include_speech\": True,\n",
        "                              \"include_gesture\": True,\n",
        "                              \"language\": \"en\"\n",
        "                          }\n",
        "                      },\n",
        "                      description=\"Generate welcome user action plan\")\n",
        "\n",
        "# Quick action generation\n",
        "quick_action = test_api(\"/action_plan/quick_action\", \"POST\",\n",
        "                       {\n",
        "                           \"natural_language\": \"Greet the user enthusiastically and show walking animation\",\n",
        "                           \"context\": {\"mood\": \"happy\"}\n",
        "                       },\n",
        "                       description=\"Generate quick action from natural language\")\n",
        "\n",
        "# Get available action templates\n",
        "templates = test_api(\"/action_plan/templates\", \"GET\",\n",
        "                    description=\"Get available action plan templates\")"
      ]
    },
    {
      "cell_type": "markdown",
      "metadata": {
        "id": "comprehensive_testing"
      },
      "source": [
        "### 🔄 Comprehensive Integration Testing"
      ]
    },
    {
      "cell_type": "code",
      "execution_count": null,
      "metadata": {
        "id": \"test_integration"
      },
      "outputs": [],
      "source": [
        "display_section(\"Comprehensive Integration Test | การทดสอบรวมระบบ\")\n",
        "\n",
        "# Simulate complete user interaction flow\n",
        "print(\"🎬 Simulating complete user interaction flow...\")\n",
        "\n",
        "# Step 1: User asks for recommendation with emotion\n",
        "print(\"\\n1️⃣ User expresses excitement about trip\")\n",
        "user_input = \"I'm so excited about my trip! Can you show me some walking tours?\"\n",
        "\n",
        "# Step 2: Use the main /api/talk endpoint\n",
        "complete_response = test_api(\"/api/talk\", \"POST\",\n",
        "                            {\n",
        "                                \"message\": user_input,\n",
        "                                \"language\": \"en\",\n",
        "                                \"user_id\": \"integration_test_user\",\n",
        "                                \"context\": {\n",
        "                                    \"location\": \"Bangkok\",\n",
        "                                    \"time\": \"morning\",\n",
        "                                    \"weather\": \"sunny\"\n",
        "                                }\n",
        "                            },\n",
        "                            description=\"Complete integrated response via /api/talk\")\n",
        "\n",
        "print(\"\\n🎉 Integration test completed!\")\n",
        "print(\"This demonstrates the full pipeline through /api/talk:\")\n",
        "print(\"   User Input → Emotion Analysis → Model Selection → Tourism Recommendations → Action Planning\")"
      ]
    },
    {
      "cell_type": "markdown",
      "metadata": {
        "id": \"voice_testing"
      },
      "source": [
        "### 🎤 Voice Input/Output Testing (Optional)"
      ]
    },
    {
      "cell_type": "code",
      "execution_count": null,
      "metadata": {
        "id": \"test_voice"
      },
      "outputs": [],
      "source": [
        "display_section(\"Voice Input/Output Testing | การทดสอบเสียงเข้า/ออก\")\n",
        "\n",
        "print(\"🎤 Voice testing requires additional setup in Colab\")\n",
        "print(\"For now, we'll test the text-to-speech endpoints:\")\n",
        "\n",
        "# Test different voice styles if TTS endpoint exists\n",
        "voice_tests = [\n",
        "    {\n",
        "        \"text\": \"Hello! Welcome to Thailand's amazing tourism assistant!\",\n",
        "        \"language\": \"en\",\n",
        "        \"voice_style\": \"enthusiastic\",\n",
        "        \"description\": \"Enthusiastic English greeting\"\n",
        "    },\n",
        "    {\n",
        "        \"text\": \"สวัสดีครับ ยินดีต้อนรับสู่ประเทศไทย\",\n",
        "        \"language\": \"th\", \n",
        "        \"voice_style\": \"professional\",\n",
        "        \"description\": \"Professional Thai greeting\"\n",
        "    }\n",
        "]\n",
        "\n",
        "for voice_test in voice_tests:\n",
        "    voice_result = test_api(\"/tts/synthesize\", \"POST\", voice_test, \n",
        "                           description=voice_test[\"description\"])\n",
        "    \n",
        "    if voice_result and 'audio_url' in voice_result:\n",
        "        print(f\"🔊 Audio generated: {voice_result['audio_url']}\")\n",
        "    time.sleep(1)\n",
        "\n",
        "print(\"\\n🎵 Voice testing completed!\")\n",
        "print(\"💡 Note: Voice features may require additional configuration\")"
      ]
    },
    {
      "cell_type": "markdown",
      "metadata": {
        "id": \"summary\"
      },
      "source": [
        "---\n",
        "## 📋 Testing Summary | สรุปการทดสอบ\n",
        "\n",
        "### Generate Final Report"
      ]
    },
    {
      "cell_type": "code",
      "execution_count": null,
      "metadata": {
        "id": \"final_report"
      },
      "outputs": [],
      "source": [
        "display_section(\"Testing Summary Report | รายงานสรุปการทดสอบ\")\n",
        "\n",
        "print(\"🎯 PaiNaiDee AI Assistant - Complete API Testing Report\")\n",
        "print(\"=\"*70)\n",
        "\n",
        "print(f\"\\n🌐 Server URL: {BASE_URL}\")\n",
        "print(f\"📚 API Documentation: {BASE_URL}/docs\")\n",
        "print(f\"🎮 3D Viewer: {BASE_URL}/static/index.html\")\n",
        "\n",
        "print(\"\\n✅ Tested API Categories:\")\n",
        "categories = [\n",
        "    \"💬 Main Talk API (/api/talk) - Core functionality\",\n",
        "    \"🏥 System Health & Performance\",\n",
        "    \"🤖 AI Model Selection (English & Thai)\", \n",
        "    \"😊 Emotion Analysis & Gesture Mapping\",\n",
        "    \"🌍 Tourism Intelligence & Recommendations\",\n",
        "    \"🎭 Multimodal Action Plan Generation\",\n",
        "    \"🎤 Voice Input/Output (TTS)\",\n",
        "    \"🔄 Comprehensive Integration Testing\"\n",
        "]\n",
        "\n",
        "for category in categories:\n",
        "    print(f\"   {category}\")\n",
        "\n",
        "print(\"\\n🎮 How to Use the Main API:\")\n",
        "print(\"1. 📱 Send requests to /api/talk endpoint\")\n",
        "print(\"2. 💬 Try natural language queries like:\")\n",
        "print(\"   • 'Show me a walking person and recommend outdoor activities'\")\n",
        "print(\"   • 'แสดงคนกำลังวิ่งและแนะนำสถานที่ท่องเที่ยว' (Thai)\")\n",
        "print(\"   • 'I'm excited to explore Bangkok temples!'\")\n",
        "print(\"3. 🗺️ Include context like location, weather, time\")\n",
        "print(\"4. 🎭 Receive integrated response with model, emotion, and recommendations\")\n",
        "\n",
        "print(\"\\n📤 Sample /api/talk Request:\")\n",
        "sample_curl = f'''curl -X POST \"{BASE_URL}/api/talk\" \\\n",
        "  -H \"Content-Type: application/json\" \\\n",
        "  -d '{{\n",
        "    \"message\": \"I'm excited to see walking animations and get Bangkok recommendations!\",\n",
        "    \"language\": \"en\",\n",
        "    \"user_id\": \"demo_user\",\n",
        "    \"context\": {{\n",
        "      \"location\": \"Bangkok\",\n",
        "      \"weather\": \"sunny\",\n",
        "      \"time\": \"morning\"\n",
        "    }}\n",
        "  }}' '''\n",
        "print(sample_curl)\n",
        "\n",
        "print(\"\\n🔗 Key Features Demonstrated:\")\n",
        "features = [\n",
        "    \"✨ Natural language to 3D model selection\",\n",
        "    \"😊 Emotion detection and appropriate gesture mapping\", \n",
        "    \"🇹🇭 Thai language support\",\n",
        "    \"🌍 Context-aware tourism recommendations\",\n",
        "    \"🎭 Coordinated multimodal responses\",\n",
        "    \"📍 Location-based services\",\n",
        "    \"⚡ Real-time performance monitoring\",\n",
        "    \"🔄 Complete integrated pipeline via /api/talk\"\n",
        "]\n",
        "\n",
        "for feature in features:\n",
        "    print(f\"   {feature}\")\n",
        "\n",
        "print(\"\\n🚀 Next Steps:\")\n",
        "print(\"• Explore the interactive 3D viewer\")\n",
        "print(\"• Test with your own queries and emotions\")\n",
        "print(\"• Try different tourism scenarios\")\n",
        "print(\"• Check out the full API documentation\")\n",
        "print(\"• Integrate the /api/talk endpoint into your applications\")\n",
        "\n",
        "print(\"\\n💫 Thank you for testing PaiNaiDee AI Assistant!\")\n",
        "print(\"🇹🇭 ขอบคุณที่ทดสอบผู้ช่วย AI ไปไหนดี!\")\n",
        "\n",
        "print(f\"\\n⏰ Testing completed at: {time.strftime('%Y-%m-%d %H:%M:%S')}\")"
      ]
    },
    {
      "cell_type": "markdown",
      "metadata": {
        "id": \"cleanup\"
      },
      "source": [
        "### 🧹 Cleanup (Optional)"
      ]
    },
    {
      "cell_type": "code",
      "execution_count": null,
      "metadata": {
        "id": \"cleanup_resources"
      },
      "outputs": [],
      "source": [
        "# Optional: Clean up resources\n",
        "print(\"🧹 Cleaning up resources...\")\n",
        "\n",
        "try:\n",
        "    # Kill ngrok tunnel\n",
        "    ngrok.kill()\n",
        "    print(\"✅ ngrok tunnel closed\")\n",
        "except:\n",
        "    print(\"ℹ️ ngrok cleanup skipped\")\n",
        "\n",
        "print(\"\\n🎉 Cleanup completed!\")\n",
        "print(\"💡 The server will continue running until you restart the runtime\")"
      ]
    }
  ]
}