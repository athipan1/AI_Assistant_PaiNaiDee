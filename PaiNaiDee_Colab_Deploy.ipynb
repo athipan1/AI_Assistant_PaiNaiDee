{
  "nbformat": 4,
  "nbformat_minor": 0,
  "metadata": {
    "colab": {
      "provenance": [],
      "gpuType": "T4",
      "include_colab_link": true
    },
    "kernelspec": {
      "name": "python3",
      "display_name": "Python 3"
    },
    "language_info": {
      "name": "python"
    },
    "accelerator": "GPU"
  },
  "cells": [
    {
      "cell_type": "markdown",
      "metadata": {
        "id": "view-in-github",
        "colab_type": "text"
      },
      "source": [
        "<a href=\"https://colab.research.google.com/github/athipan1/AI_Assistant_PaiNaiDee/blob/main/PaiNaiDee_Colab_Deploy.ipynb\" target=\"_parent\"><img src=\"https://colab.research.google.com/assets/colab-badge.svg\" alt=\"Open In Colab\"/></a>"
      ]
    },
    {
      "cell_type": "markdown",
      "source": [
        "# 🇹🇭 PaiNaiDee AI Assistant - Google Colab Deployment\n",
        "## ผู้ช่วย AI ไปไหนดี - การติดตั้งบน Google Colab\n",
        "\n",
        "### คำแนะนำ | Instructions:\n",
        "1. **รันเซลล์ทีละเซลล์** | Run cells one by one\n",
        "2. **รอให้ติดตั้งเสร็จ** | Wait for installation to complete  \n",
        "3. **ใส่ ngrok token** | Enter your ngrok token\n",
        "4. **คลิกลิงก์เพื่อเข้าใช้** | Click the link to access the app\n",
        "\n",
        "### ฟีเจอร์ | Features:\n",
        "- 🤖 3D model visualization with AI\n",
        "- 🎭 Emotion analysis system  \n",
        "- 🌍 Tourism recommendations\n",
        "- 🎮 Interactive 3D viewer\n",
        "- 📱 Multimodal action plans"
      ],
      "metadata": {
        "id": "title-section"
      }
    },
    {
      "cell_type": "code",
      "execution_count": null,
      "metadata": {
        "id": "install-dependencies"
      },
      "outputs": [],
      "source": [
        "# 🔧 ติดตั้ง Dependencies | Install Dependencies\n",
        "print(\"🔧 Installing system dependencies...\")\n",
        "!apt-get update > /dev/null 2>&1\n",
        "!apt-get install -y gcc g++ cmake build-essential libgl1-mesa-glx libglib2.0-0 > /dev/null 2>&1\n",
        "\n",
        "print(\"📦 Installing Python packages...\")\n",
        "!pip install fastapi uvicorn python-multipart > /dev/null 2>&1\n",
        "!pip install transformers torch tokenizers accelerate scikit-learn joblib > /dev/null 2>&1\n",
        "!pip install opencv-python-headless mediapipe pillow sentencepiece > /dev/null 2>&1\n",
        "!pip install requests beautifulsoup4 wikipedia python-dotenv pydantic > /dev/null 2>&1\n",
        "!pip install langchain langchain-community > /dev/null 2>&1\n",
        "\n",
        "print(\"✅ Dependencies installed successfully!\")"
      ]
    },
    {
      "cell_type": "code",
      "source": [
        "# 📥 ดาวน์โหลดโปรเจกต์ | Download Project\n",
        "import os\n",
        "import sys\n",
        "\n",
        "print(\"📥 Cloning PaiNaiDee AI Assistant repository...\")\n",
        "!git clone https://github.com/athipan1/AI_Assistant_PaiNaiDee.git > /dev/null 2>&1\n",
        "\n",
        "# เปลี่ยนไปยังโฟลเดอร์โปรเจกต์ | Change to project directory\n",
        "os.chdir('/content/AI_Assistant_PaiNaiDee/painaidee_ai_assistant')\n",
        "sys.path.append('/content/AI_Assistant_PaiNaiDee/painaidee_ai_assistant')\n",
        "\n",
        "print(\"✅ Project downloaded successfully!\")\n",
        "print(f\"📁 Current directory: {os.getcwd()}\")"
      ],
      "metadata": {
        "id": "download-project"
      },
      "execution_count": null,
      "outputs": []
    },
    {
      "cell_type": "code",
      "source": [
        "# 🔑 ติดตั้ง ngrok และใส่ token | Install ngrok and set token\n",
        "!pip install pyngrok > /dev/null 2>&1\n",
        "\n",
        "# ⚠️ สำคัญ: ใส่ ngrok token ของคุณที่นี่ | IMPORTANT: Enter your ngrok token here\n",
        "# สมัครฟรีได้ที่ | Sign up for free at: https://ngrok.com/\n",
        "NGROK_TOKEN = \"\"  # ⭐ ใส่ token ของคุณตรงนี้ | Enter your token here\n",
        "\n",
        "if not NGROK_TOKEN:\n",
        "    print(\"⚠️ กรุณาใส่ ngrok token ของคุณในตัวแปร NGROK_TOKEN\")\n",
        "    print(\"⚠️ Please enter your ngrok token in the NGROK_TOKEN variable\")\n",
        "    print(\"📝 Get your free token at: https://ngrok.com/\")\n",
        "else:\n",
        "    from pyngrok import ngrok\n",
        "    ngrok.set_auth_token(NGROK_TOKEN)\n",
        "    print(\"✅ ngrok token set successfully!\")"
      ],
      "metadata": {
        "id": "setup-ngrok"
      },
      "execution_count": null,
      "outputs": []
    },
    {
      "cell_type": "code",
      "source": [
        "# 🚀 เริ่มเซิร์ฟเวอร์ | Start Server\n",
        "import threading\n",
        "import time\n",
        "import uvicorn\n",
        "from pyngrok import ngrok\n",
        "\n",
        "# สร้างและเริ่มเซิร์ฟเวอร์ในเธรดแยก | Create and start server in separate thread\n",
        "def start_server():\n",
        "    try:\n",
        "        from main import app\n",
        "        uvicorn.run(app, host=\"0.0.0.0\", port=8000)\n",
        "    except Exception as e:\n",
        "        print(f\"❌ Error starting server: {e}\")\n",
        "        # Fallback: สร้างเซิร์ฟเวอร์ง่ายๆ | Create simple server\n",
        "        from fastapi import FastAPI\n",
        "        simple_app = FastAPI(title=\"PaiNaiDee AI Assistant\")\n",
        "        \n",
        "        @simple_app.get(\"/\")\n",
        "        def read_root():\n",
        "            return {\n",
        "                \"message\": \"🇹🇭 Welcome to PaiNaiDee AI Assistant!\", \n",
        "                \"status\": \"running\",\n",
        "                \"docs\": \"/docs\",\n",
        "                \"health\": \"/health\"\n",
        "            }\n",
        "        \n",
        "        @simple_app.get(\"/health\")\n",
        "        def health_check():\n",
        "            return {\"status\": \"healthy\", \"message\": \"PaiNaiDee AI Assistant is running\"}\n",
        "            \n",
        "        uvicorn.run(simple_app, host=\"0.0.0.0\", port=8000)\n",
        "\n",
        "# เริ่มเซิร์ฟเวอร์ในเธรดพื้นหลัง | Start server in background thread\n",
        "print(\"🚀 Starting PaiNaiDee AI Assistant server...\")\n",
        "server_thread = threading.Thread(target=start_server, daemon=True)\n",
        "server_thread.start()\n",
        "\n",
        "# รอให้เซิร์ฟเวอร์เริ่มทำงาน | Wait for server to start\n",
        "time.sleep(10)\n",
        "\n",
        "# สร้าง ngrok tunnel | Create ngrok tunnel\n",
        "print(\"🌐 Creating ngrok tunnel...\")\n",
        "public_url = ngrok.connect(8000)\n",
        "print(f\"✅ Server is running!\")\n",
        "print(f\"🔗 Public URL: {public_url}\")\n",
        "print(f\"📚 API Documentation: {public_url}/docs\")\n",
        "print(f\"🏥 Health Check: {public_url}/health\")\n",
        "print(f\"🎮 3D Demo: {public_url}/static/demo.html\")\n",
        "\n",
        "print(\"\\n\" + \"=\"*50)\n",
        "print(\"🎉 PaiNaiDee AI Assistant is now live!\")\n",
        "print(\"🇹🇭 ผู้ช่วย AI ไปไหนดี พร้อมใช้งานแล้ว!\")\n",
        "print(\"=\"*50)"
      ],
      "metadata": {
        "id": "start-server"
      },
      "execution_count": null,
      "outputs": []
    },
    {
      "cell_type": "code",
      "source": [
        "# 🧪 ทดสอบ API | Test API\n",
        "import requests\n",
        "import json\n",
        "\n",
        "# ทดสอบ Health Check\n",
        "try:\n",
        "    response = requests.get(f\"{public_url}/health\")\n",
        "    print(\"🏥 Health Check:\")\n",
        "    print(json.dumps(response.json(), indent=2, ensure_ascii=False))\n",
        "except Exception as e:\n",
        "    print(f\"❌ Health check failed: {e}\")\n",
        "\n",
        "# ทดสอบ API หลัก (ถ้ามี)\n",
        "try:\n",
        "    test_data = {\"question\": \"Show me a walking person\"}\n",
        "    response = requests.post(f\"{public_url}/ai/select_model\", json=test_data)\n",
        "    if response.status_code == 200:\n",
        "        print(\"\\n🤖 AI Model Selection Test:\")\n",
        "        print(json.dumps(response.json(), indent=2, ensure_ascii=False))\n",
        "    else:\n",
        "        print(f\"\\n⚠️ AI endpoint returned status: {response.status_code}\")\n",
        "except Exception as e:\n",
        "    print(f\"\\n⚠️ AI test failed (this is normal if full features aren't loaded): {e}\")\n",
        "\n",
        "print(\"\\n🎯 การทดสอบเสร็จสิ้น | Testing completed\")"
      ],
      "metadata": {
        "id": "test-api"
      },
      "execution_count": null,
      "outputs": []
    },
    {
      "cell_type": "markdown",
      "source": [
        "## 📝 วิธีใช้งาน | How to Use\n",
        "\n",
        "### ขั้นตอนการใช้งาน | Usage Steps:\n",
        "\n",
        "1. **คลิกลิงก์ด้านบน** | Click the links above to access:\n",
        "   - 🔗 **Public URL**: เข้าใช้เว็บไซต์หลัก | Main website\n",
        "   - 📚 **API Documentation**: ดูเอกสาร API | View API docs\n",
        "   - 🏥 **Health Check**: ตรวจสอบสถานะ | Check server status\n",
        "   - 🎮 **3D Demo**: ทดลอง 3D viewer | Try 3D viewer\n",
        "\n",
        "2. **ทดลองคำสั่ง** | Try commands:\n",
        "   - \"Show me a walking person\"\n",
        "   - \"หาร้านอาหารใกล้ฉัน\"\n",
        "   - \"I'm excited about my trip!\"\n",
        "\n",
        "3. **สำรวจฟีเจอร์** | Explore features:\n",
        "   - 🤖 AI model selection\n",
        "   - 🎭 Emotion analysis  \n",
        "   - 🌍 Tourism recommendations\n",
        "   - 🎮 3D visualization\n",
        "\n",
        "### 🔧 หากมีปัญหา | Troubleshooting:\n",
        "- รีสตาร์ท Colab runtime | Restart Colab runtime\n",
        "- ตรวจสอบ ngrok token | Check ngrok token\n",
        "- รันเซลล์ใหม่ | Re-run cells\n",
        "\n",
        "### 💡 เคล็ดลับ | Tips:\n",
        "- เซิร์ฟเวอร์จะทำงานตราบที่ Colab ยังเปิดอยู่ | Server runs as long as Colab is open\n",
        "- URL จะเปลี่ยนทุกครั้งที่รีสตาร์ท | URL changes every restart\n",
        "- ใช้ GPU เพื่อความเร็วดีขึ้น | Use GPU for better performance"
      ],
      "metadata": {
        "id": "usage-instructions"
      }
    },
    {
      "cell_type": "code",
      "source": [
        "# 📊 แสดงข้อมูลระบบ | Show System Info\n",
        "import psutil\n",
        "import GPUtil\n",
        "\n",
        "print(\"📊 System Information:\")\n",
        "print(f\"💾 RAM Usage: {psutil.virtual_memory().percent}%\")\n",
        "print(f\"💽 Disk Usage: {psutil.disk_usage('/').percent}%\")\n",
        "print(f\"🔥 CPU Count: {psutil.cpu_count()}\")\n",
        "\n",
        "try:\n",
        "    gpus = GPUtil.getGPUs()\n",
        "    if gpus:\n",
        "        gpu = gpus[0]\n",
        "        print(f\"🎮 GPU: {gpu.name}\")\n",
        "        print(f\"🎮 GPU Memory: {gpu.memoryUsed}MB / {gpu.memoryTotal}MB\")\n",
        "    else:\n",
        "        print(\"🎮 GPU: Not available\")\n",
        "except:\n",
        "    print(\"🎮 GPU: Unable to detect\")\n",
        "\n",
        "print(\"\\n🔗 Keep this Colab tab open to maintain the server\")\n",
        "print(\"🇹🇭 เปิดแท็บ Colab นี้ไว้เพื่อให้เซิร์ฟเวอร์ทำงานต่อไป\")"
      ],
      "metadata": {
        "id": "system-info"
      },
      "execution_count": null,
      "outputs": []
    }
  ]
}